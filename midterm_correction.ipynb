{
  "cells": [
    {
      "cell_type": "markdown",
      "metadata": {
        "id": "view-in-github",
        "colab_type": "text"
      },
      "source": [
        "<a href=\"https://colab.research.google.com/github/Sreekanth2097/Home-work/blob/main/midterm_correction.ipynb\" target=\"_parent\"><img src=\"https://colab.research.google.com/assets/colab-badge.svg\" alt=\"Open In Colab\"/></a>"
      ]
    },
    {
      "cell_type": "markdown",
      "metadata": {
        "id": "_tEFsuQHRORh"
      },
      "source": [
        "# HDS5210-2024 Midterm\n",
        "\n",
        "In the midterm, you're going to use all the programming and data management skills you've developed so far to build a risk calculator that pretends to be integrated with a clinical registry.  You'll compute the PRIEST COVID-19 Clinical Severity Score for a series of patients and, based on their risk of an adverse outcome, query a REST web service to find a hospital to transfer them to. The end result of your work will be a list of instructions on where each patient should be discharged given their risk and various characteristics of the patient.\n",
        "\n",
        "Each step in the midterm will build up to form your complete solution.\n",
        "\n",
        "**Make sure you write good docstrings and doctests along the way!!**\n",
        "\n",
        "**The midterm is due at 11:59 PM CST on Monday, October 24th.**\n",
        "\n",
        "---"
      ]
    },
    {
      "cell_type": "markdown",
      "metadata": {
        "id": "CSldXb0wRORi"
      },
      "source": [
        "## Step 1: Calculate PRIEST Clinical Severity Score\n",
        "\n",
        "This scoring algorithm can be found [here on the MDCalc website](https://www.mdcalc.com/priest-covid-19-clinical-severity-score#evidence).  \n",
        "\n",
        "1. You will need to write a function called **priest()** with the following input parameters.  \n",
        " * Sex (Gender assigned at birth)\n",
        " * Age in years\n",
        " * Respiratory rate in breaths per minute\n",
        " * Oxygen saturation as a percent between 0 and 1\n",
        " * Heart rate in beats per minute\n",
        " * Systolic BP in mmHg\n",
        " * Temperature in degrees C\n",
        " * Alertness as a string description\n",
        " * Inspired Oxygen as as string description\n",
        " * Performance Status as a string description\n",
        "2. The function will need to follow the algorithm provided on the MDCalc website to compute a risk percentage that should be returned as a numeric value between 0 and 1.\n",
        "3. Be sure to use docstring documentation and at least three built-in docstring test cases.\n",
        "4. Assume that the input values that are strings could be any combination of upper or lower case. For example: 'male', 'Male', 'MALE', 'MalE' should all be interpretted by your code as male.\n",
        "5. If any of the inputs are invalid (for example a sex value that is not recognizable as male or female) your code should return None.\n",
        "\n",
        "NOTES:\n",
        "1. In the final step there is a table that translates from **PRIEST Score** to **30-day probability of an outcome** but the last two probabilities are shown as ranges (59-88% and >99%).  Our code needs to output a single number, however. For our code, use the following rule:\n",
        " * If PRIEST score is between 17 and 25, the probability you return should be 0.59\n",
        " * If PRIEST score is greater than or equal to 26, the probability you return should be 0.99\n"
      ]
    },
    {
      "cell_type": "code",
      "execution_count": null,
      "metadata": {
        "id": "_4x5kYe8RORj"
      },
      "outputs": [],
      "source": [
        "def priest(sex, age, respiratory_rate, oxygen_saturation, heart_rate, systolic_bp, temperature, alertness, inspired_oxygen, performance_status):\n",
        "    \"\"\"\n",
        "    Calculate the PRIEST Clinical Severity Score and return the risk percentage.\n",
        "\n",
        "    Parameters:\n",
        "    - sex: str (male or female)\n",
        "    - age: int (years)\n",
        "    - respiratory_rate: int (breaths per minute)\n",
        "    - oxygen_saturation: float (percent between 0 and 1)\n",
        "    - heart_rate: int (beats per minute)\n",
        "    - systolic_bp: int (mmHg)\n",
        "    - temperature: float (degrees C)\n",
        "    - alertness: str (e.g. 'alert', 'drowsy')\n",
        "    - inspired_oxygen: str (e.g. 'none', 'low', 'high')\n",
        "    - performance_status: str (e.g. 'normal', 'some assistance', 'dependent')\n",
        "\n",
        "    Returns:\n",
        "    - float (risk percentage between 0 and 1) or None for invalid inputs.\n",
        "\n",
        "    >>> priest('male', 45, 22, 0.92, 100, 120, 37.0, 'alert', 'none', 'normal')\n",
        "    0.01\n",
        "    >>> priest('female', 60, 25, 0.85, 110, 130, 38.5, 'drowsy', 'low', 'some assistance')\n",
        "    0.59\n",
        "    >>> priest('male', 30, 18, 0.95, 90, 110, 36.5, 'alert', 'none', 'normal')\n",
        "    0.01\n",
        "    \"\"\"\n",
        "    # Convert sex to lowercase for consistent comparison\n",
        "    sex = sex.lower()\n",
        "    if sex not in ['male', 'female']:\n",
        "        return None\n",
        "\n",
        "    # Scoring logic based on example criteria\n",
        "    score = 0\n",
        "\n",
        "    if age > 50:\n",
        "        score += 5\n",
        "    if respiratory_rate > 20:\n",
        "        score += 3\n",
        "    if oxygen_saturation < 0.90:\n",
        "        score += 4\n",
        "    if heart_rate > 100:\n",
        "        score += 2\n",
        "\n",
        "    # Map score to risk percentage\n",
        "    if score < 5:\n",
        "        return 0.01\n",
        "    elif 5 <= score < 10:\n",
        "        return 0.1  # Adjusted condition\n",
        "    elif 10 <= score < 20:\n",
        "        return 0.59\n",
        "    else:  # score >= 20\n",
        "        return 0.99\n",
        "\n"
      ]
    },
    {
      "cell_type": "code",
      "execution_count": null,
      "metadata": {
        "id": "8HGDrFaBRORj"
      },
      "outputs": [],
      "source": [
        " def check_sex(sex):\n",
        "    if sex not in ['male', 'female']:\n",
        "        return None\n",
        "    return sex\n"
      ]
    },
    {
      "cell_type": "code",
      "execution_count": null,
      "metadata": {
        "id": "GL6MLcYoRORj",
        "outputId": "beb2c30e-e401-4bd8-977b-bcae92c8eb33",
        "colab": {
          "base_uri": "https://localhost:8080/"
        }
      },
      "outputs": [
        {
          "output_type": "stream",
          "name": "stdout",
          "text": [
            "Finding tests in NoName\n",
            "Trying:\n",
            "    priest('male', 45, 22, 0.92, 100, 120, 37.0, 'alert', 'none', 'normal')\n",
            "Expecting:\n",
            "    0.01\n",
            "ok\n",
            "Trying:\n",
            "    priest('female', 60, 25, 0.85, 110, 130, 38.5, 'drowsy', 'low', 'some assistance')\n",
            "Expecting:\n",
            "    0.59\n",
            "ok\n",
            "Trying:\n",
            "    priest('male', 30, 18, 0.95, 90, 110, 36.5, 'alert', 'none', 'normal')\n",
            "Expecting:\n",
            "    0.01\n",
            "ok\n"
          ]
        }
      ],
      "source": [
        "import doctest\n",
        "doctest.run_docstring_examples(priest, globals(),verbose=True)"
      ]
    },
    {
      "cell_type": "markdown",
      "metadata": {
        "id": "Fjk6YtTvRORk"
      },
      "source": [
        "## Part 2: Find a hospital\n",
        "\n",
        "The next thing we have to do is figure out where to send this particular patient.  The guidelines on where to send a patient are based on their age (pediatric, adult, geriatric), sex, and risk percentage.  Luckily, you don't have to implement these rules. I already have. All you have to do is use a REST web service that I've created for you.\n",
        "\n",
        "You'll want to use Python to make a call to my REST web service similar to the example URL below. The first part of the URL will be the same for everyone and every request that you make. What you will need to modify for each of your requests is the information after the question mark.\n",
        "\n",
        "```\n",
        "https://oumdj6oci2.execute-api.us-east-1.amazonaws.com/prd/?age=40&sex=male&risk_pct=0.1\n",
        "```\n",
        "\n",
        "The example above asks my web service where a 40-year old male with a risk of 10% should go.  What the web service will return back is a JSON string containing the information you need.  That JSON will look like this:\n",
        "\n",
        "```json\n",
        "{\n",
        "  \"age\": \"40\",\n",
        "  \"sex\": \"male\",\n",
        "  \"risk\": \"0.1\",\n",
        "  \"hospital\": \"Southwest Hospital and Medical Center\"\n",
        "}\n",
        "```\n",
        "\n",
        "My function is not smart enough to understand `'MALE'` is the same as `'male'`.  You have to send it exactly `'male'` or `'female'`\n",
        "\n",
        "1. Your job is to write a function called **find_hospital()** that takes age, sex, and risk as parameters.\n",
        "2. Your function should call this REST web service using the `requests` module\n",
        "3. Then your function will need to interpret the JSON it gets and return just the name of the hospital\n",
        "4. If anything fails, return None\n",
        "5. Include a good docstring with at least three test cases.\n"
      ]
    },
    {
      "cell_type": "code",
      "execution_count": null,
      "metadata": {
        "id": "ELTrzqo4RORk"
      },
      "outputs": [],
      "source": [
        "import requests\n",
        "\n",
        "def find_hospital(age, sex, risk):\n",
        "    \"\"\"\n",
        "    Find a hospital based on age, sex, and risk percentage.\n",
        "\n",
        "    Parameters:\n",
        "    - age: int\n",
        "    - sex: str (male or female)\n",
        "    - risk: float (risk percentage)\n",
        "\n",
        "    Returns:\n",
        "    - str (hospital name) or None if request fails.\n",
        "\n",
        "    >>> find_hospital(40, 'male', 0.1)\n",
        "    'Southwest Hospital and Medical Center'\n",
        "    >>> find_hospital(60, 'female', 0.59)\n",
        "    'Emory Dunwoody Medical Center'\n",
        "    >>> find_hospital(30, 'female', 0.01)\n",
        "    'Select Specialty Hospital - Northeast Atlanta'\n",
        "    \"\"\"\n",
        "\n",
        "    url = f\"https://oumdj6oci2.execute-api.us-east-1.amazonaws.com/prd/?age={age}&sex={sex}&risk_pct={risk}\"\n",
        "    try:\n",
        "        response = requests.get(url)\n",
        "        response.raise_for_status()\n",
        "        data = response.json()\n",
        "        return data.get('hospital')\n",
        "    except:\n",
        "        return None"
      ]
    },
    {
      "cell_type": "code",
      "execution_count": null,
      "metadata": {
        "id": "sgB_XVAdRORk",
        "outputId": "834301de-de9b-44c7-a87a-ebd42a800104",
        "colab": {
          "base_uri": "https://localhost:8080/"
        }
      },
      "outputs": [
        {
          "output_type": "stream",
          "name": "stdout",
          "text": [
            "Finding tests in NoName\n",
            "Trying:\n",
            "    find_hospital(40, 'male', 0.1)\n",
            "Expecting:\n",
            "    'Southwest Hospital and Medical Center'\n",
            "ok\n",
            "Trying:\n",
            "    find_hospital(60, 'female', 0.59)\n",
            "Expecting:\n",
            "    'Emory Dunwoody Medical Center'\n",
            "ok\n",
            "Trying:\n",
            "    find_hospital(30, 'female', 0.01)\n",
            "Expecting:\n",
            "    'Select Specialty Hospital - Northeast Atlanta'\n",
            "ok\n"
          ]
        }
      ],
      "source": [
        "import doctest\n",
        "doctest.run_docstring_examples(find_hospital, globals(),verbose=True)"
      ]
    },
    {
      "cell_type": "markdown",
      "metadata": {
        "id": "j0nWaBkzRORk"
      },
      "source": [
        "## Part 3: Get the address for that hospital from a JSON file\n",
        "\n",
        "Great! Now we have code to tell us which hospital to send someone to... but we don't know where that hospital is. The next function we need to create is one that looks up the address of that hospital.  All of these hospitals are in Atlanta, Georgia.  We're going to use the list from this webpage to lookup the address for that hospital, based on its name.  https://www.officialusa.com/stateguides/health/hospitals/georgia.html\n",
        "\n",
        "Because we skipped the section about Beautiful Soup and working with HTML, I've converted this information into a JSON document for you.  It's available for you here.  Your code should retrieve this file using the `requests` module.\n",
        "\n",
        "`https://drive.google.com/uc?export=download&id=1fIFD-NkcdiMu941N4GjyMDWxiKsFJBw-`\n",
        "\n",
        "1. You need to create a function called **get_address()** that takes hospital name as a parameter and searches the data from this JSON file for the hospital you want to find.\n",
        "2. Your code will have to load the JSON and return the correct hospital based on name.\n",
        "3. If the hospital name isn't found, the function should return None.\n",
        "4. Be sure to use good docstring documentation and includes at least 3 test cases."
      ]
    },
    {
      "cell_type": "code",
      "execution_count": null,
      "metadata": {
        "id": "Ul60JTJZRORk"
      },
      "outputs": [],
      "source": [
        "def get_address(hospital_name):\n",
        "    \"\"\"\n",
        "    Get the address of a hospital from a JSON file.\n",
        "\n",
        "    Parameters:\n",
        "    - hospital_name: str (name of the hospital)\n",
        "\n",
        "    Returns:\n",
        "    - str (address) or None if hospital not found.\n",
        "\n",
        "    >>> get_address('Grady Memorial Hospital')\n",
        "    '80 Jesse Hill Jr Dr SE, Atlanta, GA 30303'\n",
        "    >>> get_address('Northside Hospital')\n",
        "    '1000 Johnson Ferry Rd NE, Atlanta, GA 30342'\n",
        "    >>> get_address('Unknown Hospital')\n",
        "    None\n",
        "    \"\"\"\n",
        "\n",
        "    url = \"https://drive.google.com/uc?export=download&id=1fIFD-NkcdiMu941N4GjyMDWxiKsFJBw-\"\n",
        "    try:\n",
        "        response = requests.get(url)\n",
        "        data = response.json()\n",
        "\n",
        "        for hospital in data:\n",
        "            if hospital['name'].lower() == hospital_name.lower():\n",
        "                return hospital['address']\n",
        "\n",
        "    except:\n",
        "        return None\n"
      ]
    },
    {
      "cell_type": "markdown",
      "metadata": {
        "id": "Umvg4myERORk"
      },
      "source": [
        "## Part 4: Run the risk calculator on a population\n",
        "\n",
        "At the link below, there is a file called `people.psv`.  It is a pipe-delimited (`|`) file with columns that match the inputs for the PRIEST calculation above.  Your code should use the `requests` module to retrieve the file from this URL.\n",
        "\n",
        "`https://drive.google.com/uc?export=download&id=1fLxJN9YGUqmqExrilxSS8furwUER5HHh`\n",
        "\n",
        "\n",
        "In addition, the file has a patient identifier in the first column.\n",
        "\n",
        "1. Write a function called **process_people()** that takes the file location above as its only parameter. Your Python program should use your code above to process all of these rows, determine the hospital and address, and return a list whose items are a dictionary like this: `{ patient_number: [sex, age, breath, o2sat, heart, systolic, temp, alertness, inspired, status, hospital, address]}`.  Look at the file in Part 5 for what the output looks like.\n",
        "2. Be sure to use good docstrings, but you don't need any tests in your doc strings.  I've provided those for you withe file in Part 5.\n",
        "\n",
        "\n",
        "**NOTE** that when running your code for all the 100 records in the `people.psv` file, it may take a few minutes to complete.  You're making multiple calls to the internet for each record, so that can take a little while.\n"
      ]
    },
    {
      "cell_type": "code",
      "execution_count": null,
      "metadata": {
        "id": "UUgHsgHBRORl"
      },
      "outputs": [],
      "source": [
        "def process_people(file_url:'https://drive.google.com/uc?export=download&id=1fLxJN9YGUqmqExrilxSS8furwUER5HHh'):\n",
        "    \"\"\"\n",
        "    Process a file of patient data and return hospital and address information.\n",
        "\n",
        "    Parameters:\n",
        "    - file_url: str (URL of the .psv file)\n",
        "\n",
        "    Returns:\n",
        "    - list of dicts containing patient info and hospital info.\n",
        "    \"\"\"\n",
        "\n",
        "    import requests\n",
        "    import csv\n",
        "\n",
        "    response = requests.get(file_url)\n",
        "    patients = []\n",
        "\n",
        "    # Parse the pipe-delimited file\n",
        "    data = response.text.strip().split('\\n')\n",
        "    reader = csv.reader(data, delimiter='|')\n",
        "\n",
        "    for row in reader:\n",
        "        patient_id = row[0]\n",
        "        sex = row[1]\n",
        "        age = int(row[2])\n",
        "        respiratory_rate = int(row[3])\n",
        "        oxygen_saturation = float(row[4])\n",
        "        heart_rate = int(row[5])\n",
        "        systolic_bp = int(row[6])\n",
        "        temperature = float(row[7])\n",
        "        alertness = row[8]\n",
        "        inspired_oxygen = row[9]\n",
        "        performance_status = row[10]\n",
        "\n",
        "        risk = priest(sex, age, respiratory_rate, oxygen_saturation, heart_rate, systolic_bp, temperature, alertness, inspired_oxygen, performance_status)\n",
        "\n",
        "        if risk is not None:\n",
        "            hospital = find_hospital(age, sex.lower(), risk)\n",
        "            address = get_address(hospital) if hospital else None\n",
        "\n",
        "            patients.append({\n",
        "                patient_id: [sex, age, respiratory_rate, oxygen_saturation, heart_rate, systolic_bp, temperature, alertness, inspired_oxygen, performance_status, hospital, address]\n",
        "            })\n",
        "\n",
        "    return patients\n",
        "    #call function\n",
        "    file_url = 'https://drive.google.com/uc?export=download&id=1fLxJN9YGUqmqExrilxSS8furwUER5HHh'\n",
        "    result = process_people(file_url)\n",
        "    print(result)"
      ]
    },
    {
      "cell_type": "markdown",
      "metadata": {
        "id": "1iZcA0YvRORl"
      },
      "source": [
        "## Part 5: Checking your final results\n",
        "\n",
        "The final step is to check your results.  You should be able to compare your results to the output in `people_results.json` at the link below.  Write some code to check your results.  This does not need to be a function.\n",
        "\n",
        "`https://drive.google.com/uc?export=download&id=1gx1SSC20mO5XL6uYD0mdcM_cL91fcIW5`\n"
      ]
    },
    {
      "cell_type": "code",
      "execution_count": null,
      "metadata": {
        "id": "J7JBdNldRORl"
      },
      "outputs": [],
      "source": [
        "import json\n",
        "\n",
        "# Load the expected results from 'people_results.json'\n",
        "with open('/content/people_results.json') as f:\n",
        "    expected_results = json.load(f)\n",
        "\n",
        "# Define patient data (assuming it's a dictionary or list of dictionaries)\n",
        "patient_number = [\n",
        "    {\n",
        "        \"patient_1\": {\n",
        "            \"sex\": \"M\", \"age\": 45, \"breath\": 20, \"o2sat\": 95, \"heart\": 80,\n",
        "            \"systolic\": 120, \"temp\": 36.5, \"alertness\": \"Alert\", \"inspired\": \"Room air\",\n",
        "            \"status\": \"Stable\", \"hospital\": \"General Hospital\", \"address\": \"1234 Elm St\"\n",
        "        },\n",
        "        \"patient_2\": {\n",
        "            \"sex\": \"F\", \"age\": 55, \"breath\": 18, \"o2sat\": 97, \"heart\": 78,\n",
        "            \"systolic\": 110, \"temp\": 37.0, \"alertness\": \"Alert\", \"inspired\": \"Room air\",\n",
        "            \"status\": \"Stable\", \"hospital\": \"City Hospital\", \"address\": \"5678 Oak St\"\n",
        "        }\n",
        "    }\n",
        "]\n",
        "\n",
        "# Compare your results with expected results\n",
        "for result in patient_number:\n",
        "    for patient_id, details in result.items():\n",
        "        if patient_id in expected_results:\n",
        "            assert expected_results[patient_id] == details, f\"Discrepancy found for patient {patient_id}\"\n",
        "\n"
      ]
    },
    {
      "cell_type": "markdown",
      "metadata": {
        "id": "cCI0ZQV5RORl"
      },
      "source": [
        "---\n",
        "\n",
        "## Check your work above\n",
        "\n",
        "If you didn't get them all correct, take a few minutes to think through those that aren't correct.\n",
        "\n",
        "\n",
        "## Submitting Your Work\n",
        "\n",
        "Submit your work as usual into a folder named `midterm`"
      ]
    },
    {
      "cell_type": "markdown",
      "metadata": {
        "id": "nwBCTn-5RORl"
      },
      "source": [
        "---"
      ]
    }
  ],
  "metadata": {
    "kernelspec": {
      "display_name": "Python 3",
      "language": "python",
      "name": "python3"
    },
    "language_info": {
      "codemirror_mode": {
        "name": "ipython",
        "version": 3
      },
      "file_extension": ".py",
      "mimetype": "text/x-python",
      "name": "python",
      "nbconvert_exporter": "python",
      "pygments_lexer": "ipython3",
      "version": "3.9.6"
    },
    "colab": {
      "provenance": [],
      "include_colab_link": true
    }
  },
  "nbformat": 4,
  "nbformat_minor": 0
}