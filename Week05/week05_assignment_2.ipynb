{
  "cells": [
    {
      "cell_type": "markdown",
      "metadata": {
        "nbgrader": {
          "grade": false,
          "grade_id": "intro",
          "locked": true,
          "schema_version": 1,
          "solution": false
        },
        "id": "fDpCoB-0VHRS"
      },
      "source": [
        "# Week 5 Exercises\n",
        "\n",
        "_McKinney 3.2_\n",
        "\n",
        "**Unlike in previous weeks, in the exercises below, you will need to create a function definition from scratch.  I'll provide specific instructions and examples for how it will be used, but you will have to do the work of definiging the whole function.**\n",
        "\n",
        "---\n",
        "---"
      ]
    },
    {
      "cell_type": "markdown",
      "metadata": {
        "nbgrader": {
          "grade": false,
          "grade_id": "longest",
          "locked": true,
          "schema_version": 1,
          "solution": false
        },
        "id": "ZaILjyIKVHRS"
      },
      "source": [
        "### 25.1 Longest String\n",
        "\n",
        "Write a function called `longest (L)` that takes as its only parameter a list of strings.  Your function needs to find the longest of those strings and return the position number of that longest string.  An example is provided below:\n",
        "\n",
        "The longest word in that list of strings is \"birthday\" in position #1, so `longest(strings)` should return 1.\n",
        "```\n",
        ">>> strings = ['happy', 'birthday', 'to', 'me']\n",
        ">>> longest(strings)\n",
        "1\n",
        "```\n",
        "\n",
        "Be sure to include a docstring.  Include test cases in your docstring if you want to."
      ]
    },
    {
      "cell_type": "code",
      "execution_count": 80,
      "metadata": {
        "nbgrader": {
          "grade": false,
          "grade_id": "longest-answer",
          "locked": false,
          "schema_version": 1,
          "solution": true
        },
        "id": "0u9ZSC7XVHRT"
      },
      "outputs": [],
      "source": [
        "### BEGIN SOLUTION\n",
        "def longest(strings):\n",
        "    \"\"\"(list) -> int\n",
        "    This function finds the longest string in the list of input strings\n",
        "    and returns the position number of that longest string.\n",
        "\n",
        "    >>> longest(['happy', 'birthday', 'to', 'me'])\n",
        "    1\n",
        "\n",
        "    >>> longest(['one', 'two', 'three', 'four'])\n",
        "    2\n",
        "    \"\"\"\n",
        "\n",
        "    longest_pos = -1\n",
        "    longest_len = 0\n",
        "\n",
        "    for position, item in enumerate(strings):\n",
        "        if len(item) > longest_len:\n",
        "            longest_pos = position\n",
        "            longest_len = len(item)\n",
        "\n",
        "    return longest_pos\n",
        "\n",
        "\n",
        "\n",
        "### END SOLUTION"
      ]
    },
    {
      "cell_type": "code",
      "execution_count": 81,
      "metadata": {
        "nbgrader": {
          "grade": true,
          "grade_id": "longest-tests",
          "locked": true,
          "points": 10,
          "schema_version": 1,
          "solution": false
        },
        "id": "wfuxNZUDVHRT"
      },
      "outputs": [],
      "source": [
        "assert longest(\"happy birthday to me\".split(\" \")) == 1\n",
        "assert longest(\"enjoy class\".split(\" \")) == 0\n",
        "assert longest(['when','what','where','how','who']) == 2"
      ]
    },
    {
      "cell_type": "code",
      "execution_count": 82,
      "metadata": {
        "id": "hvjBshUxVHRU",
        "outputId": "804382f2-4143-4758-caea-4d33d0f188d7",
        "colab": {
          "base_uri": "https://localhost:8080/"
        }
      },
      "outputs": [
        {
          "output_type": "stream",
          "name": "stdout",
          "text": [
            "Finding tests in NoName\n",
            "Trying:\n",
            "    longest(['happy', 'birthday', 'to', 'me'])\n",
            "Expecting:\n",
            "    1\n",
            "ok\n",
            "Trying:\n",
            "    longest(['one', 'two', 'three', 'four'])\n",
            "Expecting:\n",
            "    2\n",
            "ok\n"
          ]
        }
      ],
      "source": [
        "import doctest\n",
        "doctest.run_docstring_examples(longest, globals(), verbose=True)"
      ]
    },
    {
      "cell_type": "markdown",
      "metadata": {
        "id": "8b6sj5i3VHRU"
      },
      "source": [
        "### 25.2 Farenheit to Celsius\n",
        "\n",
        "Write a function called f_to_c() that converts a given temperature in degrees Farenheit to degrees Celsius.  If you don't recall that conversion, it is:\n",
        "\n",
        "$ temp_c = \\frac{5}{9} \\times (temp_f - 32) $\n",
        "\n",
        "Make sure that you code is well documented using the DocString examples, and that your code includes tests for 212f, 32f, and 98.6f."
      ]
    },
    {
      "cell_type": "code",
      "execution_count": 83,
      "metadata": {
        "id": "uriBokI1VHRU"
      },
      "outputs": [],
      "source": [
        "### BEGIN SOLUTION\n",
        "def f_to_c(temp_f):\n",
        "        \"\"\"Convert Fahrenheit to Celsius.\n",
        "\n",
        "        >>> TemperatureConverter.f_to_c(212)\n",
        "        100.0\n",
        "        >>> TemperatureConverter.f_to_c(32)\n",
        "        0.0\n",
        "        >>> TemperatureConverter.f_to_c(98.6)\n",
        "        37.0\n",
        "        >>> TemperatureConverter.f_to_c(-40)\n",
        "        -40.0\n",
        "        \"\"\"\n",
        "        if not isinstance(temp_f, (int, float)):\n",
        "            raise ValueError(\"Input must be a number.\")\n",
        "\n",
        "        temp_c = (5 / 9) * (temp_f - 32)\n",
        "        return round(temp_c, 1)\n",
        "### END SOLUTION"
      ]
    },
    {
      "cell_type": "code",
      "execution_count": 84,
      "metadata": {
        "id": "zRtrPg9VVHRU"
      },
      "outputs": [],
      "source": [
        "assert f_to_c(212) == 100.0\n",
        "assert f_to_c(32) == 0.0\n",
        "assert f_to_c(98.6) == 37.0"
      ]
    },
    {
      "cell_type": "code",
      "execution_count": 85,
      "metadata": {
        "id": "40VsHW9cVHRU",
        "outputId": "95177ce1-7053-43a0-e6ba-cdb41a5b659b",
        "colab": {
          "base_uri": "https://localhost:8080/"
        }
      },
      "outputs": [
        {
          "output_type": "stream",
          "name": "stdout",
          "text": [
            "Finding tests in NoName\n",
            "Trying:\n",
            "    TemperatureConverter.f_to_c(212)\n",
            "Expecting:\n",
            "    100.0\n",
            "**********************************************************************\n",
            "File \"__main__\", line 5, in NoName\n",
            "Failed example:\n",
            "    TemperatureConverter.f_to_c(212)\n",
            "Exception raised:\n",
            "    Traceback (most recent call last):\n",
            "      File \"/usr/lib/python3.10/doctest.py\", line 1350, in __run\n",
            "        exec(compile(example.source, filename, \"single\",\n",
            "      File \"<doctest NoName[0]>\", line 1, in <module>\n",
            "        TemperatureConverter.f_to_c(212)\n",
            "    NameError: name 'TemperatureConverter' is not defined\n",
            "Trying:\n",
            "    TemperatureConverter.f_to_c(32)\n",
            "Expecting:\n",
            "    0.0\n",
            "**********************************************************************\n",
            "File \"__main__\", line 7, in NoName\n",
            "Failed example:\n",
            "    TemperatureConverter.f_to_c(32)\n",
            "Exception raised:\n",
            "    Traceback (most recent call last):\n",
            "      File \"/usr/lib/python3.10/doctest.py\", line 1350, in __run\n",
            "        exec(compile(example.source, filename, \"single\",\n",
            "      File \"<doctest NoName[1]>\", line 1, in <module>\n",
            "        TemperatureConverter.f_to_c(32)\n",
            "    NameError: name 'TemperatureConverter' is not defined\n",
            "Trying:\n",
            "    TemperatureConverter.f_to_c(98.6)\n",
            "Expecting:\n",
            "    37.0\n",
            "**********************************************************************\n",
            "File \"__main__\", line 9, in NoName\n",
            "Failed example:\n",
            "    TemperatureConverter.f_to_c(98.6)\n",
            "Exception raised:\n",
            "    Traceback (most recent call last):\n",
            "      File \"/usr/lib/python3.10/doctest.py\", line 1350, in __run\n",
            "        exec(compile(example.source, filename, \"single\",\n",
            "      File \"<doctest NoName[2]>\", line 1, in <module>\n",
            "        TemperatureConverter.f_to_c(98.6)\n",
            "    NameError: name 'TemperatureConverter' is not defined\n",
            "Trying:\n",
            "    TemperatureConverter.f_to_c(-40)\n",
            "Expecting:\n",
            "    -40.0\n",
            "**********************************************************************\n",
            "File \"__main__\", line 11, in NoName\n",
            "Failed example:\n",
            "    TemperatureConverter.f_to_c(-40)\n",
            "Exception raised:\n",
            "    Traceback (most recent call last):\n",
            "      File \"/usr/lib/python3.10/doctest.py\", line 1350, in __run\n",
            "        exec(compile(example.source, filename, \"single\",\n",
            "      File \"<doctest NoName[3]>\", line 1, in <module>\n",
            "        TemperatureConverter.f_to_c(-40)\n",
            "    NameError: name 'TemperatureConverter' is not defined\n"
          ]
        }
      ],
      "source": [
        "import doctest\n",
        "doctest.run_docstring_examples(f_to_c, globals(), verbose=True)"
      ]
    },
    {
      "cell_type": "markdown",
      "metadata": {
        "id": "16MM8ofBVHRV"
      },
      "source": [
        "### 25.3 Computing Length of Stay\n",
        "\n",
        "For this problem, we have a collection of patient enounter data stored as a Python dictionary.  The `key` for the dictionary is the **encounter ID**, a code that starts with the letter `E` followed by four numbers.  The value associated with each encounter ID is another Python dictionary.  This \"inner\" dictionary holds three items: admit date, primary diagnosis, and discharge date.  See the example in the code below.\n",
        "\n",
        "You need to write a length of stay function that computes the length of stay, in whole days, between the admit date and discharge date.  However, if the diagnosis is \"Observation\" then the length of stay should always be returned as 0 regardless of the admit and discharge dates. Your function should should take three parameters: a start date, an end date, and a diagnosis.\n",
        "\n",
        "You will find it handy to refer to this example here on how to calculate the number of days between two dates: https://stackoverflow.com/questions/151199/how-to-calculate-number-of-days-between-two-given-dates"
      ]
    },
    {
      "cell_type": "code",
      "execution_count": 86,
      "metadata": {
        "id": "W66SWGRvVHRV"
      },
      "outputs": [],
      "source": [
        "from datetime import date\n",
        "\n",
        "### BEGIN SOLUTION\n",
        "def los(admit_date, discharge_date, diagnosis):\n",
        "    \"\"\"\n",
        "    Calculate the length of stay (LOS) for a patient encounter.\n",
        "\n",
        "    Parameters:\n",
        "    - admit_date (date): The date the patient was admitted\n",
        "    - discharge_date (date): The date the patient was discharged\n",
        "    - diagnosis (str): The patient's primary diagnosis for the encounter\n",
        "\n",
        "    Returns:\n",
        "    - int: The length of stay in whole days. If the diagnosis is \"Observation\",\n",
        "           the LOS is always 0.\n",
        "\n",
        "    Notes:\n",
        "    - The LOS is calculated by finding the difference between the discharge date\n",
        "      and the admit date.\n",
        "    \"\"\"\n",
        "\n",
        "    # Input validation\n",
        "    if not isinstance(admit_date, date) or not isinstance(discharge_date, date):\n",
        "        raise ValueError(\"Both admit_date and discharge_date must be date objects.\")\n",
        "\n",
        "    if discharge_date < admit_date:\n",
        "        raise ValueError(\"Discharge date cannot be earlier than admit date.\")\n",
        "\n",
        "    # If the diagnosis is \"Observation\", LOS is 0\n",
        "    if diagnosis == \"Observation\":\n",
        "        return 0\n",
        "\n",
        "    # Calculate the length of stay in whole days\n",
        "    return (discharge_date - admit_date).days\n",
        "### END SOLUTION"
      ]
    },
    {
      "cell_type": "code",
      "execution_count": 87,
      "metadata": {
        "id": "jKVRtnTMVHRV"
      },
      "outputs": [],
      "source": [
        "assert los(date(2019,1,3), date(2019,1,8), \"COPD\") == 5\n",
        "assert los(date(2020,1,5), date(2020,1,8), \"Observation\") == 0"
      ]
    },
    {
      "cell_type": "code",
      "execution_count": 88,
      "metadata": {
        "id": "B8k0o_peVHRV",
        "outputId": "8f6c4519-14d0-4fbd-fba8-381cab98e5e0",
        "colab": {
          "base_uri": "https://localhost:8080/"
        }
      },
      "outputs": [
        {
          "output_type": "stream",
          "name": "stdout",
          "text": [
            "Finding tests in NoName\n"
          ]
        }
      ],
      "source": [
        "import doctest\n",
        "doctest.run_docstring_examples(los, globals(), verbose=True)"
      ]
    },
    {
      "cell_type": "code",
      "execution_count": 89,
      "metadata": {
        "id": "IQW_i5gbVHRV",
        "outputId": "a2cbf5ae-a8cc-4653-9162-618adda3b70f",
        "colab": {
          "base_uri": "https://localhost:8080/"
        }
      },
      "outputs": [
        {
          "output_type": "stream",
          "name": "stdout",
          "text": [
            "5\n",
            "4\n",
            "1\n",
            "0\n",
            "0\n"
          ]
        }
      ],
      "source": [
        "encounters = {\n",
        "    \"E1234\": { \"admit\": date(2019,1,3), \"diagnosis\": \"COPD\", \"discharge\": date(2019,1,8) },\n",
        "    \"E8342\": { \"admit\": date(2019,1,5), \"diagnosis\": \"Hypertension\", \"discharge\": date(2019,1,9) },\n",
        "    \"E9231\": { \"admit\": date(2019,1,12), \"diagnosis\": \"Anxiety\", \"discharge\": date(2019,1,13) },\n",
        "    \"E8333\": { \"admit\": date(2019,1,15), \"diagnosis\": \"Observation\", \"discharge\": date(2019,1,16) },\n",
        "    \"E3342\": { \"admit\": date(2019,1,4), \"diagnosis\": \"Anxiety\", \"discharge\": date(2019,1,4)}\n",
        "}\n",
        "\n",
        "\n",
        "for encid, visit in encounters.items():\n",
        "    print(los(visit['admit'],visit['discharge'],visit['diagnosis']))\n",
        "\n",
        "# Your output should be\n",
        "# 5\n",
        "# 4\n",
        "# 1\n",
        "# 0\n",
        "# 0"
      ]
    },
    {
      "cell_type": "markdown",
      "metadata": {
        "id": "GjRV2yg-VHRV"
      },
      "source": [
        "---\n",
        "---\n",
        "\n",
        "### 25.4 Average Length of Stay\n",
        "\n",
        "Create a function called `average_los` that returns the average of the LOS for the encounters in the provided dictionary. The encounters must be a dictionary that contains dictionaries that each contain at least an admit date and a discharge date.\n",
        "    \n",
        "If the length of stay of any individual encounter is 0, then it will not be counted toward the average."
      ]
    },
    {
      "cell_type": "code",
      "execution_count": 90,
      "metadata": {
        "id": "b2FqwbPsVHRV"
      },
      "outputs": [],
      "source": [
        "\n",
        "### BEGIN SOLUTION\n",
        "from datetime import date\n",
        "\n",
        "def length_of_stay(admit_date, discharge_date, diagnosis):\n",
        "    \"\"\"\n",
        "    Calculate the length of stay (LOS) for a patient encounter.\n",
        "    If the diagnosis is \"Observation\", the LOS is always 0.\n",
        "\n",
        "    :param admit_date: Date of admission\n",
        "    :param discharge_date: Date of discharge\n",
        "    :param diagnosis: Diagnosis for the encounter\n",
        "    :return: Length of stay in days (int)\n",
        "    \"\"\"\n",
        "    if diagnosis == \"Observation\":\n",
        "        return 0\n",
        "    return (discharge_date - admit_date).days\n",
        "\n",
        "def average_los(encounters):\n",
        "    \"\"\"\n",
        "    Calculate the average length of stay (LOS) for a set of patient encounters.\n",
        "\n",
        "    :param encounters: Dictionary of patient encounters, where each encounter contains\n",
        "                      admit date, discharge date, and diagnosis.\n",
        "    :return: Average length of stay (float)\n",
        "    \"\"\"\n",
        "    total_los = 0\n",
        "    encounter_count = 0\n",
        "\n",
        "    for encounter in encounters.values():\n",
        "        diagnosis = encounter.get(\"diagnosis\")\n",
        "        admit_date = encounter.get(\"admit\")\n",
        "        discharge_date = encounter.get(\"discharge\")\n",
        "\n",
        "        # Validate the encounter data\n",
        "        if isinstance(admit_date, date) and isinstance(discharge_date, date):\n",
        "            los = length_of_stay(admit_date, discharge_date, diagnosis)\n",
        "            total_los += los\n",
        "            encounter_count += 1\n",
        "        else:\n",
        "            print(\"Encounter data is missing or invalid.\")\n",
        "\n",
        "    if encounter_count == 0:\n",
        "        return 0.0  # Return 0.0 if there are no valid encounters\n",
        "\n",
        "    return total_los / encounter_count\n",
        "\n",
        "# Example usage:\n",
        "# encounters = {\n",
        "#     \"encounter1\": {\n",
        "#         \"diagnosis\": \"Pneumonia\",\n",
        "#         \"admit\": date(2024, 9, 1),\n",
        "#         \"discharge\": date(2024, 9, 5)\n",
        "#     },\n",
        "#     \"encounter2\": {\n",
        "#         \"diagnosis\": \"Observation\",\n",
        "#         \"admit\": date(2024, 9, 3),\n",
        "#         \"discharge\": date(2024, 9, 4)\n",
        "#     },\n",
        "#     \"encounter3\": {\n",
        "#         \"diagnosis\": \"Flu\",\n",
        "#         \"admit\": date(2024, 9, 2),\n",
        "#         \"discharge\": date(2024, 9, 6)\n",
        "#     }\n",
        "# }\n",
        "# print(average_los(encounters))  # Output: Average length of stay\n",
        "\n",
        "\n",
        "### END SOLUTION"
      ]
    },
    {
      "cell_type": "code",
      "execution_count": 91,
      "metadata": {
        "id": "Ekh3AkfYVHRV"
      },
      "outputs": [],
      "source": [
        "from datetime import date\n",
        "encounters = {\n",
        "    \"E1234\": { \"admit\": date(2019,1,3), \"diagnosis\": \"COPD\", \"discharge\": date(2019,1,8) },\n",
        "    \"E8342\": { \"admit\": date(2019,1,5), \"diagnosis\": \"Hypertension\", \"discharge\": date(2019,1,9) },\n",
        "    \"E9231\": { \"admit\": date(2019,1,12), \"diagnosis\": \"Anxiety\", \"discharge\": date(2019,1,13) },\n",
        "    \"E8333\": { \"admit\": date(2019,1,15), \"diagnosis\": \"Observation\", \"discharge\": date(2019,1,16) },\n",
        "    \"E3342\": { \"admit\": date(2019,1,4), \"diagnosis\": \"Anxiety\", \"discharge\": date(2019,1,4)}\n",
        "}\n",
        "assert(round(average_los(encounters),2) == 2.0)"
      ]
    },
    {
      "cell_type": "code",
      "execution_count": 92,
      "metadata": {
        "id": "yHIYcS6FVHRV",
        "outputId": "e5f3fa24-1892-4dfe-99fd-d3492964d55a",
        "colab": {
          "base_uri": "https://localhost:8080/"
        }
      },
      "outputs": [
        {
          "output_type": "stream",
          "name": "stdout",
          "text": [
            "Finding tests in NoName\n"
          ]
        }
      ],
      "source": [
        "import doctest\n",
        "doctest.run_docstring_examples(average_los, globals(), verbose=True)"
      ]
    },
    {
      "cell_type": "markdown",
      "metadata": {
        "id": "MSrWNbn1VHRV"
      },
      "source": [
        "---\n",
        "\n",
        "### 25.5 Celsius to Farenheit\n",
        "\n",
        "Write your own function called `c_to_f` that converts degrees Celsius to degrees Farenheit.  Include in your solution a series of doc tests that can verify the conversion using inputs of 100, 0, and 37 degrees Celsius"
      ]
    },
    {
      "cell_type": "code",
      "execution_count": 93,
      "metadata": {
        "id": "AQfiPE-WVHRW"
      },
      "outputs": [],
      "source": [
        "### BEGIN SOLUTION\n",
        "def c_to_f(temp_c):\n",
        "    \"\"\"(float) -> float\n",
        "    This function converts a temperature in degrees Celsius to degrees Fahrenheit.\n",
        "\n",
        "    >>> c_to_f(100)\n",
        "    212.0\n",
        "    >>> c_to_f(0)\n",
        "    32.0\n",
        "    >>> c_to_f(37)\n",
        "    98.6\n",
        "    >>> c_to_f(-40)\n",
        "    -40.0\n",
        "    \"\"\"\n",
        "\n",
        "    if not isinstance(temp_c, (int, float)):\n",
        "        raise ValueError(\"Input must be a number.\")\n",
        "\n",
        "    temp_f = (temp_c * (9 / 5)) + 32\n",
        "    return round(temp_f, 1)  # Rounding to one decimal place for consistency\n",
        "\n",
        "### END SOLUTION"
      ]
    },
    {
      "cell_type": "code",
      "execution_count": 94,
      "metadata": {
        "id": "0lSuvfl6VHRW",
        "outputId": "a413ace1-208f-4867-d1bb-32ae07c4d14e",
        "colab": {
          "base_uri": "https://localhost:8080/"
        }
      },
      "outputs": [
        {
          "output_type": "stream",
          "name": "stdout",
          "text": [
            "Finding tests in NoName\n",
            "Trying:\n",
            "    c_to_f(100)\n",
            "Expecting:\n",
            "    212.0\n",
            "ok\n",
            "Trying:\n",
            "    c_to_f(0)\n",
            "Expecting:\n",
            "    32.0\n",
            "ok\n",
            "Trying:\n",
            "    c_to_f(37)\n",
            "Expecting:\n",
            "    98.6\n",
            "ok\n",
            "Trying:\n",
            "    c_to_f(-40)\n",
            "Expecting:\n",
            "    -40.0\n",
            "ok\n"
          ]
        }
      ],
      "source": [
        "import doctest\n",
        "doctest.run_docstring_examples(c_to_f, globals(), verbose=True)"
      ]
    },
    {
      "cell_type": "code",
      "execution_count": 94,
      "metadata": {
        "id": "UMr7f56_VHRW"
      },
      "outputs": [],
      "source": []
    },
    {
      "cell_type": "markdown",
      "metadata": {
        "id": "vd0eFYOeVHRW"
      },
      "source": [
        "---\n",
        "\n",
        "## Check your work above\n",
        "\n",
        "If you didn't get them all correct, take a few minutes to think through those that aren't correct.\n",
        "\n",
        "\n",
        "## Submitting Your Work\n",
        "\n",
        "In order to submit your work, you'll need to use the `git` command line program to **add** your homework file (this file) to your local repository, **commit** your changes to your local repository, and then **push** those changes up to github.com.  From there, I'll be able to **pull** the changes down and do my grading.  I'll provide some feedback, **commit** and **push** my comments back to you.  Next week, I'll show you how to **pull** down my comments.\n",
        "\n",
        "First run through everything one last time and submit your work:\n",
        "1. Use the `Kernel` -> `Restart Kernel and Run All Cells` menu option to run everything from top to bottom and stop here.\n",
        "2. Then open a new command line by clicking the `+` icon above the file list and chosing `Terminal`\n",
        "3. At the command line in the new Terminal, follow these steps:\n",
        "  1. Change directories to your project folder and the week03 subfolder (`cd <folder name>`)\n",
        "  2. Make sure your project folders are up to date with github.com (`git pull`)\n",
        "  3. Add the homework files for this week (`git add <file name>`)\n",
        "  4. Commit your changes (`git commit -a -m \"message\"`)\n",
        "  5. Push your changes (`git push`)\n",
        "  \n",
        "If anything fails along the way with this submission part of the process, let me know.  I'll help you troubleshoort."
      ]
    }
  ],
  "metadata": {
    "celltoolbar": "Create Assignment",
    "kernelspec": {
      "display_name": "Python 3",
      "language": "python",
      "name": "python3"
    },
    "language_info": {
      "codemirror_mode": {
        "name": "ipython",
        "version": 3
      },
      "file_extension": ".py",
      "mimetype": "text/x-python",
      "name": "python",
      "nbconvert_exporter": "python",
      "pygments_lexer": "ipython3",
      "version": "3.6.7"
    },
    "colab": {
      "provenance": []
    }
  },
  "nbformat": 4,
  "nbformat_minor": 0
}